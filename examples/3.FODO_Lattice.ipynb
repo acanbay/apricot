{
 "cells": [
  {
   "cell_type": "markdown",
   "id": "31fdbab8-ce81-4f35-94c4-7bea295dda00",
   "metadata": {},
   "source": [
    "# FODO Lattice\n",
    "The following parameters are needed to create a FODO lattice:\n",
    "\n",
    "```py\n",
    "Name                      # Name of the element\n",
    "DriftLength               # Length of the drift tubes\n",
    "QuadrupoleMagnetLength    # Length of the quadrupole magnets\n",
    "QuadrupoleMagnetStrength  # Strength of the quadrupole magnets\n",
    "```\n",
    "\n",
    "The FODO object is generated from the **FODO** class of the **BeamLine** module as follows:\n",
    "```py\n",
    "Beamline(Name, DriftLength, QuadrupoleMagnetLength, QuadrupoleMagnetStrength)\n",
    "```\n",
    "**If step size is used for FODO:** step size should be the exact divisor of half of the quadrupole magnet length and the drift tube length."
   ]
  },
  {
   "cell_type": "code",
   "execution_count": 1,
   "id": "a8d7a24e-86d5-408f-99b7-ed0182446bd1",
   "metadata": {},
   "outputs": [],
   "source": [
    "import sys\n",
    "sys.path.append('../') # to make the module directory the default directory:\n",
    "\n",
    "import apricot.Beamline as bl # to define FODO objects\n",
    "import apricot.Functions as fn # for beam transporting\n",
    "import apricot.Graphs as gp # to plot graphs"
   ]
  },
  {
   "cell_type": "code",
   "execution_count": 2,
   "id": "1a19e04f-d5e6-4c46-ac43-9a0d6d7f111a",
   "metadata": {},
   "outputs": [],
   "source": [
    "# Createing a FODO Lattice with 2.5 m drift tube and 0.5 m quadrupole magnet (strength = 0.54102)\n",
    "lattice = bl.FODO(\"FODO\",2.5,0.5,0.54102)\n",
    "beamline = bl.Beamline( \"beamline\", [lattice] )"
   ]
  },
  {
   "cell_type": "code",
   "execution_count": 3,
   "id": "76c0fad4-501c-4272-b721-34885edfd21b",
   "metadata": {},
   "outputs": [
    {
     "name": "stdout",
     "output_type": "stream",
     "text": [
      "\n",
      "Creating beam with parameters below:\n",
      "        \n",
      "    Particle Type           : electron\n",
      "    Number of Particles     : 10000\n",
      "    Beam Energy (KeV)       : 2.500e+02\n",
      "    RMS x size (mm)         : 3.000e-06\n",
      "    RMS y size (mm)         : 3.000e-06\n",
      "    RMS z size (mm)         : 0.000e+00\n",
      "    Emittance x (mrad)      : 7.752e-10\n",
      "    Emittance y (mrad)      : 1.699e-09\n",
      "    Alpha x                 : 7.853e-17\n",
      "    Alpha y                 : 0.000e+00\n",
      "    %Energy Spread          : 0.000e+00\n",
      "\n"
     ]
    }
   ],
   "source": [
    "# Generating of a beam compatible with FODO lattice\n",
    "ParticleTpye = \"electron\"   # particle\n",
    "NumberOfParticles = 10000   # number of particle\n",
    "BeamEnergy = 250e3          # beam energy keV\n",
    "x_rms = 0.003               # sigma_x    m  \n",
    "y_rms = 0.003               # sigma_y    m\n",
    "\n",
    "Beam = lattice.RandomBeam( ParticleTpye, NumberOfParticles, BeamEnergy, x_rms, y_rms )"
   ]
  },
  {
   "cell_type": "code",
   "execution_count": 4,
   "id": "5e01bfea-e7e2-4f84-b2fb-03037d5d4680",
   "metadata": {},
   "outputs": [
    {
     "name": "stdout",
     "output_type": "stream",
     "text": [
      "Progress:  >----------------------------------------⬮> 100.0% \n"
     ]
    }
   ],
   "source": [
    "# Running beam on beamline\n",
    "fn.TransportBeam( Beam, beamline.Elements, 0.05 )"
   ]
  },
  {
   "cell_type": "code",
   "execution_count": 6,
   "id": "1903ff37-0b5c-433c-b5f0-3a948ddd83d2",
   "metadata": {},
   "outputs": [
    {
     "data": {
      "image/png": "[encoded data removed]",
      "text/plain": [
       "<Figure size 432x288 with 2 Axes>"
      ]
     },
     "metadata": {
      "needs_background": "light"
     },
     "output_type": "display_data"
    }
   ],
   "source": [
    "# Plotting Beta Function\n",
    "gp.plotBetaFunctions( Beam, beamline.Elements )"
   ]
  }
 ],
 "metadata": {
  "kernelspec": {
   "display_name": "Python 3 (ipykernel)",
   "language": "python",
   "name": "python3"
  },
  "language_info": {
   "codemirror_mode": {
    "name": "ipython",
    "version": 3
   },
   "file_extension": ".py",
   "mimetype": "text/x-python",
   "name": "python",
   "nbconvert_exporter": "python",
   "pygments_lexer": "ipython3",
   "version": "3.9.10"
  }
 },
 "nbformat": 4,
 "nbformat_minor": 5
}
